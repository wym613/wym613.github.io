{
 "cells": [
  {
   "cell_type": "code",
   "execution_count": 1,
   "metadata": {},
   "outputs": [],
   "source": [
    "import os\n",
    "import glob\n",
    "import numpy as np\n",
    "from tensorflow.keras import layers\n",
    "from tensorflow import keras \n",
    "import tensorflow as tf"
   ]
  },
  {
   "cell_type": "code",
   "execution_count": 2,
   "metadata": {},
   "outputs": [],
   "source": [
    "class cnn:\n",
    "    def __init__(self):\n",
    "        self.batch_size = 128\n",
    "        self.dir_data='data/'\n",
    "        self.num_of_classes,self.dict =create_dic(self.dir_data)\n",
    "        self.image_size = 28\n",
    "        self.validate_data = 10000"
   ]
  },
  {
   "cell_type": "code",
   "execution_count": 3,
   "metadata": {},
   "outputs": [],
   "source": [
    "with open('mini_classes.txt','w') as f:\n",
    "    for file in sorted(os.listdir('data/')):\n",
    "        if file.endswith(\".npy\"):\n",
    "            print(file.split(\".\")[0], file = f)\n",
    "f = open(\"mini_classes.txt\",\"r\")\n",
    "# And for reading use\n",
    "classes = f.readlines()\n",
    "f.close()\n",
    "classes = [c.replace('\\n','').replace(' ','_') for c in classes]"
   ]
  },
  {
   "cell_type": "code",
   "execution_count": 4,
   "metadata": {},
   "outputs": [
    {
     "data": {
      "text/plain": [
       "['ambulance',\n",
       " 'apple',\n",
       " 'axe',\n",
       " 'basketball',\n",
       " 'bicycle',\n",
       " 'bird',\n",
       " 'butterfly',\n",
       " 'car',\n",
       " 'carrot',\n",
       " 'cat',\n",
       " 'chair',\n",
       " 'clock',\n",
       " 'cookie',\n",
       " 'cup',\n",
       " 'donut',\n",
       " 'envelope',\n",
       " 'flower',\n",
       " 'key',\n",
       " 'knife',\n",
       " 'lightning',\n",
       " 'pencil',\n",
       " 'pizza',\n",
       " 'rainbow',\n",
       " 'snake',\n",
       " 'spider',\n",
       " 'star',\n",
       " 'tractor',\n",
       " 'tree',\n",
       " 'whale',\n",
       " 'windmill']"
      ]
     },
     "execution_count": 4,
     "metadata": {},
     "output_type": "execute_result"
    }
   ],
   "source": [
    "classes"
   ]
  },
  {
   "cell_type": "code",
   "execution_count": 5,
   "metadata": {},
   "outputs": [],
   "source": [
    "def create_dic(dir_data):\n",
    "    dict={}\n",
    "    i=0\n",
    "    for file in sorted(os.listdir(dir_data)):\n",
    "        if file.endswith(\".npy\"):\n",
    "            str=file.split(\".\")\n",
    "            dict[i]=str[0]\n",
    "            i=i+1\n",
    "    return i,dict"
   ]
  },
  {
   "cell_type": "code",
   "execution_count": 6,
   "metadata": {},
   "outputs": [],
   "source": [
    "def load_data(cnn):\n",
    "    dir_data='data/'\n",
    "    num_of_classess,dict=create_dic(dir_data)\n",
    "    data_l=np.zeros((1))\n",
    "    data_d=np.zeros((1,cnn.image_size*cnn.image_size))\n",
    "    index=0\n",
    "    class_names = []\n",
    "    for file in sorted(os.listdir(dir_data)):\n",
    "        if file.endswith(\".npy\"):\n",
    "            print(data_l.shape,data_d.shape,\"cur label num!\",index,file)\n",
    "            curr_data=np.load(dir_data+file)\n",
    "\n",
    "            #change to white background\n",
    "            curr_data=255-curr_data;\n",
    "            data_d=np.concatenate((data_d,curr_data))\n",
    "            data_l=np.concatenate((data_l,np.ones(curr_data.shape[0])*index))\n",
    "            index=index+1\n",
    "            class_names.append(file.split('.')[0])\n",
    "\n",
    "\n",
    "\n",
    "\n",
    "    data_l=np.expand_dims(data_l,1)\n",
    "    data_all=np.concatenate((data_d,data_l),axis=1)\n",
    "    data_all=np.random.permutation(data_all)\n",
    "\n",
    "    x_data=data_all[:,0:-1]\n",
    "    y_data=data_all[:,-1]\n",
    "    num_img=x_data.shape[0]\n",
    "    data_img=np.reshape(x_data,[num_img,cnn.image_size,cnn.image_size])\n",
    "\n",
    "\n",
    "    data_train=data_img[cnn.validate_data:,:,:]\n",
    "    data_train=np.expand_dims(data_train,3)\n",
    "\n",
    "    labels_train=y_data[cnn.validate_data:]\n",
    "    data_test=data_img[:cnn.validate_data:,:,:]\n",
    "    data_test=np.expand_dims(data_test,3)\n",
    "\n",
    "    labels_test=y_data[:cnn.validate_data]\n",
    "\n",
    "\n",
    "    return data_train,labels_train,data_test,labels_test,class_names"
   ]
  },
  {
   "cell_type": "code",
   "execution_count": null,
   "metadata": {},
   "outputs": [
    {
     "name": "stdout",
     "output_type": "stream",
     "text": [
      "(1,) (1, 784) cur label num! 0 ambulance.npy\n",
      "(148005,) (148005, 784) cur label num! 1 apple.npy\n",
      "(292727,) (292727, 784) cur label num! 2 axe.npy\n",
      "(416849,) (416849, 784) cur label num! 3 basketball.npy\n",
      "(550642,) (550642, 784) cur label num! 4 bicycle.npy\n",
      "(677169,) (677169, 784) cur label num! 5 bird.npy\n",
      "(810741,) (810741, 784) cur label num! 6 butterfly.npy\n",
      "(928740,) (928740, 784) cur label num! 7 car.npy\n",
      "(1111504,) (1111504, 784) cur label num! 8 carrot.npy\n",
      "(1243963,) (1243963, 784) cur label num! 9 cat.npy\n",
      "(1367165,) (1367165, 784) cur label num! 10 chair.npy\n",
      "(1589871,) (1589871, 784) cur label num! 11 clock.npy\n",
      "(1710407,) (1710407, 784) cur label num! 12 cookie.npy\n",
      "(1841760,) (1841760, 784) cur label num! 13 cup.npy\n",
      "(1972481,) (1972481, 784) cur label num! 14 donut.npy\n",
      "(2113232,) (2113232, 784) cur label num! 15 envelope.npy\n",
      "(2248095,) (2248095, 784) cur label num! 16 flower.npy\n",
      "(2392913,) (2392913, 784) cur label num! 17 key.npy\n",
      "(2553878,) (2553878, 784) cur label num! 18 knife.npy\n",
      "(2726534,) (2726534, 784) cur label num! 19 lightning.npy\n",
      "(2878094,) (2878094, 784) cur label num! 20 pencil.npy\n",
      "(3000095,) (3000095, 784) cur label num! 21 pizza.npy\n",
      "(3130466,) (3130466, 784) cur label num! 22 rainbow.npy\n",
      "(3257311,) (3257311, 784) cur label num! 23 snake.npy\n",
      "(3379584,) (3379584, 784) cur label num! 24 spider.npy\n",
      "(3589031,) (3589031, 784) cur label num! 25 star.npy\n",
      "(3726650,) (3726650, 784) cur label num! 26 tractor.npy\n",
      "(3843327,) (3843327, 784) cur label num! 27 tree.npy\n",
      "(3988048,) (3988048, 784) cur label num! 28 whale.npy\n",
      "(4104550,) (4104550, 784) cur label num! 29 windmill.npy\n"
     ]
    }
   ],
   "source": [
    "quick_draw_cnn=cnn()\n",
    "x_train, y_train, x_test, y_test, class_names = load_data(quick_draw_cnn)\n",
    "num_classes = len(class_names)"
   ]
  },
  {
   "cell_type": "code",
   "execution_count": 8,
   "metadata": {},
   "outputs": [
    {
     "name": "stdout",
     "output_type": "stream",
     "text": [
      "cat\n"
     ]
    },
    {
     "data": {
      "image/png": "[encoded data removed]",
      "text/plain": [
       "<Figure size 432x288 with 1 Axes>"
      ]
     },
     "metadata": {
      "needs_background": "light"
     },
     "output_type": "display_data"
    }
   ],
   "source": [
    "import matplotlib.pyplot as plt\n",
    "from random import randint\n",
    "%matplotlib inline  \n",
    "idx = randint(0, len(x_train))\n",
    "plt.imshow(x_train[idx].reshape(28,28)) \n",
    "print(class_names[int(y_train[idx].item())])"
   ]
  },
  {
   "cell_type": "code",
   "execution_count": 9,
   "metadata": {},
   "outputs": [],
   "source": [
    "x_train = x_train.reshape(x_train.shape[0], quick_draw_cnn.image_size, quick_draw_cnn.image_size, 1).astype('float32')\n",
    "x_test = x_test.reshape(x_test.shape[0], quick_draw_cnn.image_size, quick_draw_cnn.image_size, 1).astype('float32')\n",
    "\n",
    "x_train /= 255.0\n",
    "x_test /= 255.0\n",
    "\n",
    "# Convert class vectors to class matrices\n",
    "y_train = keras.utils.to_categorical(y_train, num_classes)\n",
    "y_test = keras.utils.to_categorical(y_test, num_classes)"
   ]
  },
  {
   "cell_type": "code",
   "execution_count": 10,
   "metadata": {},
   "outputs": [
    {
     "name": "stdout",
     "output_type": "stream",
     "text": [
      "_________________________________________________________________\n",
      "Layer (type)                 Output Shape              Param #   \n",
      "=================================================================\n",
      "conv2d (Conv2D)              (None, 28, 28, 32)        832       \n",
      "_________________________________________________________________\n",
      "max_pooling2d (MaxPooling2D) (None, 14, 14, 32)        0         \n",
      "_________________________________________________________________\n",
      "conv2d_1 (Conv2D)            (None, 14, 14, 32)        25632     \n",
      "_________________________________________________________________\n",
      "max_pooling2d_1 (MaxPooling2 (None, 7, 7, 32)          0         \n",
      "_________________________________________________________________\n",
      "conv2d_2 (Conv2D)            (None, 7, 7, 32)          25632     \n",
      "_________________________________________________________________\n",
      "max_pooling2d_2 (MaxPooling2 (None, 3, 3, 32)          0         \n",
      "_________________________________________________________________\n",
      "conv2d_3 (Conv2D)            (None, 3, 3, 32)          25632     \n",
      "_________________________________________________________________\n",
      "max_pooling2d_3 (MaxPooling2 (None, 1, 1, 32)          0         \n",
      "_________________________________________________________________\n",
      "flatten (Flatten)            (None, 32)                0         \n",
      "_________________________________________________________________\n",
      "dense (Dense)                (None, 500)               16500     \n",
      "_________________________________________________________________\n",
      "dense_1 (Dense)              (None, 2)                 1002      \n",
      "=================================================================\n",
      "Total params: 95,230\n",
      "Trainable params: 95,230\n",
      "Non-trainable params: 0\n",
      "_________________________________________________________________\n",
      "None\n"
     ]
    }
   ],
   "source": [
    "# Define model\n",
    "model = keras.Sequential()\n",
    "model.add(layers.Convolution2D(filters=32, kernel_size=[5,5], padding='same',input_shape=x_train.shape[1:], activation='relu'))\n",
    "model.add(layers.MaxPooling2D(pool_size=(2, 2), strides=2))\n",
    "\n",
    "model.add(layers.Convolution2D(filters=32, kernel_size=[5,5],padding='same', activation= 'relu'))\n",
    "model.add(layers.MaxPooling2D(pool_size=(2, 2), strides=2))\n",
    "\n",
    "model.add(layers.Convolution2D(filters=32, kernel_size=[5,5],padding='same', activation= 'relu'))\n",
    "model.add(layers.MaxPooling2D(pool_size=(2, 2), strides=2))\n",
    "\n",
    "model.add(layers.Convolution2D(filters=32, kernel_size=[5,5],padding='same', activation= 'relu'))\n",
    "model.add(layers.MaxPooling2D(pool_size=(2, 2), strides=2))\n",
    "\n",
    "model.add(layers.Flatten())\n",
    "model.add(layers.Dense(units=500, activation='relu'))\n",
    "model.add(layers.Dense(units=num_classes, activation='softmax')) \n",
    "# Train model\n",
    "adam = tf.train.AdamOptimizer()\n",
    "model.compile(loss='categorical_crossentropy',\n",
    "              optimizer=adam,\n",
    "              metrics=['top_k_categorical_accuracy'])\n",
    "print(model.summary())"
   ]
  },
  {
   "cell_type": "code",
   "execution_count": 11,
   "metadata": {},
   "outputs": [
    {
     "name": "stdout",
     "output_type": "stream",
     "text": [
      "Train on 231202 samples, validate on 10000 samples\n",
      "Epoch 1/1\n",
      "231202/231202 [==============================] - 224s 969us/step - loss: 0.0628 - top_k_categorical_accuracy: 1.0000 - val_loss: 0.0342 - val_top_k_categorical_accuracy: 1.0000\n",
      "10000/10000 [==============================] - 2s 182us/step\n",
      "Test accuracy: 1.0\n"
     ]
    }
   ],
   "source": [
    "model.fit(x = x_train, y = y_train, validation_data=(x_test, y_test), batch_size=quick_draw_cnn.batch_size, epochs=1)\n",
    "acc = model.evaluate(x_test, y_test,batch_size=quick_draw_cnn.batch_size)\n",
    "print('Test accuracy:', acc[1])"
   ]
  },
  {
   "cell_type": "code",
   "execution_count": 12,
   "metadata": {},
   "outputs": [
    {
     "name": "stdout",
     "output_type": "stream",
     "text": [
      "['butterfly', 'cat']\n"
     ]
    },
    {
     "data": {
      "image/png": "[encoded data removed]",
      "text/plain": [
       "<Figure size 432x288 with 1 Axes>"
      ]
     },
     "metadata": {
      "needs_background": "light"
     },
     "output_type": "display_data"
    }
   ],
   "source": [
    "import matplotlib.pyplot as plt\n",
    "from random import randint\n",
    "%matplotlib inline  \n",
    "idx = randint(0, len(x_test))\n",
    "img = x_test[idx]\n",
    "plt.imshow(img.squeeze()) \n",
    "pred = model.predict(np.expand_dims(img, axis=0))[0]\n",
    "ind = (-pred).argsort()[:]\n",
    "latex = [class_names[x] for x in ind]\n",
    "print(latex)"
   ]
  },
  {
   "cell_type": "code",
   "execution_count": 13,
   "metadata": {},
   "outputs": [],
   "source": [
    "with open('class_names.txt', 'w') as file_handler:\n",
    "    for item in class_names:\n",
    "        file_handler.write(\"{}\\n\".format(item))"
   ]
  },
  {
   "cell_type": "code",
   "execution_count": 14,
   "metadata": {},
   "outputs": [
    {
     "name": "stdout",
     "output_type": "stream",
     "text": [
      "WARNING:tensorflow:TensorFlow optimizers do not make it possible to access optimizer attributes or optimizer state after instantiation. As a result, we cannot save the optimizer as part of the model save file.You will have to compile your model again after loading it. Prefer using a Keras optimizer instead (see keras.io/optimizers).\n"
     ]
    }
   ],
   "source": [
    "model.save('keras.h5')"
   ]
  },
  {
   "cell_type": "code",
   "execution_count": 15,
   "metadata": {},
   "outputs": [
    {
     "name": "stdout",
     "output_type": "stream",
     "text": [
      "Requirement already satisfied: tensorflowjs in /Users/wangyimeng/anaconda3/lib/python3.6/site-packages (0.6.7)\n",
      "Requirement already satisfied: keras==2.2.2 in /Users/wangyimeng/anaconda3/lib/python3.6/site-packages (from tensorflowjs) (2.2.2)\n",
      "Requirement already satisfied: tensorflow-hub==0.1.1 in /Users/wangyimeng/anaconda3/lib/python3.6/site-packages (from tensorflowjs) (0.1.1)\n",
      "Requirement already satisfied: numpy==1.15.1 in /Users/wangyimeng/anaconda3/lib/python3.6/site-packages (from tensorflowjs) (1.15.1)\n",
      "Requirement already satisfied: h5py==2.8.0 in /Users/wangyimeng/anaconda3/lib/python3.6/site-packages (from tensorflowjs) (2.8.0)\n",
      "Requirement already satisfied: tensorflow==1.12.0 in /Users/wangyimeng/anaconda3/lib/python3.6/site-packages (from tensorflowjs) (1.12.0)\n",
      "Requirement already satisfied: six==1.11.0 in /Users/wangyimeng/anaconda3/lib/python3.6/site-packages (from tensorflowjs) (1.11.0)\n",
      "Requirement already satisfied: scipy>=0.14 in /Users/wangyimeng/anaconda3/lib/python3.6/site-packages (from keras==2.2.2->tensorflowjs) (1.1.0)\n",
      "Requirement already satisfied: keras-preprocessing==1.0.2 in /Users/wangyimeng/anaconda3/lib/python3.6/site-packages (from keras==2.2.2->tensorflowjs) (1.0.2)\n",
      "Requirement already satisfied: keras-applications==1.0.4 in /Users/wangyimeng/anaconda3/lib/python3.6/site-packages (from keras==2.2.2->tensorflowjs) (1.0.4)\n",
      "Requirement already satisfied: pyyaml in /Users/wangyimeng/anaconda3/lib/python3.6/site-packages (from keras==2.2.2->tensorflowjs) (3.13)\n",
      "Requirement already satisfied: protobuf>=3.4.0 in /Users/wangyimeng/anaconda3/lib/python3.6/site-packages (from tensorflow-hub==0.1.1->tensorflowjs) (3.6.1)\n",
      "Requirement already satisfied: absl-py>=0.1.6 in /Users/wangyimeng/anaconda3/lib/python3.6/site-packages (from tensorflow==1.12.0->tensorflowjs) (0.6.1)\n",
      "Requirement already satisfied: tensorboard<1.13.0,>=1.12.0 in /Users/wangyimeng/anaconda3/lib/python3.6/site-packages (from tensorflow==1.12.0->tensorflowjs) (1.12.0)\n",
      "Requirement already satisfied: grpcio>=1.8.6 in /Users/wangyimeng/anaconda3/lib/python3.6/site-packages (from tensorflow==1.12.0->tensorflowjs) (1.14.1)\n",
      "Requirement already satisfied: wheel>=0.26 in /Users/wangyimeng/anaconda3/lib/python3.6/site-packages (from tensorflow==1.12.0->tensorflowjs) (0.32.2)\n",
      "Requirement already satisfied: gast>=0.2.0 in /Users/wangyimeng/anaconda3/lib/python3.6/site-packages (from tensorflow==1.12.0->tensorflowjs) (0.2.0)\n",
      "Requirement already satisfied: astor>=0.6.0 in /Users/wangyimeng/anaconda3/lib/python3.6/site-packages (from tensorflow==1.12.0->tensorflowjs) (0.7.1)\n",
      "Requirement already satisfied: termcolor>=1.1.0 in /Users/wangyimeng/anaconda3/lib/python3.6/site-packages (from tensorflow==1.12.0->tensorflowjs) (1.1.0)\n",
      "Requirement already satisfied: setuptools in /Users/wangyimeng/anaconda3/lib/python3.6/site-packages (from protobuf>=3.4.0->tensorflow-hub==0.1.1->tensorflowjs) (40.6.2)\n",
      "Requirement already satisfied: werkzeug>=0.11.10 in /Users/wangyimeng/anaconda3/lib/python3.6/site-packages (from tensorboard<1.13.0,>=1.12.0->tensorflow==1.12.0->tensorflowjs) (0.14.1)\n",
      "Requirement already satisfied: markdown>=2.6.8 in /Users/wangyimeng/anaconda3/lib/python3.6/site-packages (from tensorboard<1.13.0,>=1.12.0->tensorflow==1.12.0->tensorflowjs) (3.0.1)\n"
     ]
    }
   ],
   "source": [
    "!pip install tensorflowjs "
   ]
  },
  {
   "cell_type": "code",
   "execution_count": 15,
   "metadata": {},
   "outputs": [
    {
     "name": "stdout",
     "output_type": "stream",
     "text": [
      "Using TensorFlow backend.\r\n"
     ]
    }
   ],
   "source": [
    "!tensorflowjs_converter --input_format keras keras.h5 model/"
   ]
  },
  {
   "cell_type": "code",
   "execution_count": null,
   "metadata": {},
   "outputs": [],
   "source": []
  }
 ],
 "metadata": {
  "kernelspec": {
   "display_name": "Python 3",
   "language": "python",
   "name": "python3"
  },
  "language_info": {
   "codemirror_mode": {
    "name": "ipython",
    "version": 3
   },
   "file_extension": ".py",
   "mimetype": "text/x-python",
   "name": "python",
   "nbconvert_exporter": "python",
   "pygments_lexer": "ipython3",
   "version": "3.6.6"
  }
 },
 "nbformat": 4,
 "nbformat_minor": 2
}
